{
 "cells": [
  {
   "cell_type": "code",
   "execution_count": 1,
   "metadata": {},
   "outputs": [
    {
     "name": "stdout",
     "output_type": "stream",
     "text": [
      "[nltk_data] Downloading package punkt to\n",
      "[nltk_data]     C:\\Users\\Kalaiyarasan.jacob\\AppData\\Roaming\\nltk_data.\n",
      "[nltk_data]     ..\n",
      "[nltk_data]   Package punkt is already up-to-date!\n",
      "[nltk_data] Downloading package stopwords to\n",
      "[nltk_data]     C:\\Users\\Kalaiyarasan.jacob\\AppData\\Roaming\\nltk_data.\n",
      "[nltk_data]     ..\n",
      "[nltk_data]   Package stopwords is already up-to-date!\n"
     ]
    },
    {
     "data": {
      "text/plain": [
       "True"
      ]
     },
     "execution_count": 1,
     "metadata": {},
     "output_type": "execute_result"
    }
   ],
   "source": [
    "#importing necessary libararies\n",
    "#nltk.downlaod will be used to download the necessary files\n",
    "\n",
    "import numpy as np\n",
    "import pandas as pd # data processing, CSV file I/O (e.g. pd.read_csv)\n",
    "import matplotlib.pyplot as plt\n",
    "import string\n",
    "from nltk.corpus import stopwords\n",
    "from sklearn.feature_extraction.text import TfidfVectorizer\n",
    "from sklearn.model_selection import train_test_split\n",
    "import nltk\n",
    "from nltk.tokenize import word_tokenize\n",
    "from nltk.stem.porter import PorterStemmer\n",
    "nltk.download('punkt')\n",
    "nltk.download('stopwords')"
   ]
  },
  {
   "cell_type": "code",
   "execution_count": 2,
   "metadata": {
    "collapsed": true
   },
   "outputs": [],
   "source": [
    "#Reading the source CSV file and encod\n",
    "df=pd.read_csv('../Downloads/spam.csv',encoding='latin-1')"
   ]
  },
  {
   "cell_type": "code",
   "execution_count": 3,
   "metadata": {},
   "outputs": [
    {
     "name": "stdout",
     "output_type": "stream",
     "text": [
      "  class                                            Message  length\n",
      "0   ham  Go until jurong point, crazy.. Available only ...     111\n",
      "1   ham                      Ok lar... Joking wif u oni...      29\n",
      "2  spam  Free entry in 2 a wkly comp to win FA Cup fina...     155\n",
      "3   ham  U dun say so early hor... U c already then say...      49\n",
      "4   ham  Nah I don't think he goes to usf, he lives aro...      61\n"
     ]
    }
   ],
   "source": [
    "#Removing columns which has Nan's or unknown values\n",
    "df.dropna(axis=1,inplace=True)\n",
    "df.rename(columns={'v1':'class','v2':'Message'},inplace=True)\n",
    "\n",
    "df['length'] = df['Message'].map(lambda text: len(text))\n",
    "print(df.head())\n"
   ]
  },
  {
   "cell_type": "code",
   "execution_count": 4,
   "metadata": {
    "collapsed": true
   },
   "outputs": [],
   "source": [
    "#removing HTML entities by html.unescape\n",
    "import html\n",
    "def html_escape(text):\n",
    "    return html.unescape(text)\n",
    "df['Message']=df['Message'].apply(html_escape)\n"
   ]
  },
  {
   "cell_type": "code",
   "execution_count": 5,
   "metadata": {
    "collapsed": true
   },
   "outputs": [],
   "source": [
    "def pre_process(text):\n",
    "    text = [word for word in text.split() if word.lower() not in stopwords.words('english')]\n",
    "    #text = [word for word in text if word.isalnum()]\n",
    "    words = \"\"\n",
    "    for i in text:\n",
    "            stemmer = PorterStemmer()\n",
    "            words += (stemmer.stem(i.lower()))+\" \"\n",
    "    return words\n",
    "   "
   ]
  },
  {
   "cell_type": "code",
   "execution_count": 6,
   "metadata": {
    "collapsed": true
   },
   "outputs": [],
   "source": [
    "\n",
    "Features = df['Message'].copy()\n",
    "Features = Features.apply(pre_process)\n",
    "vectorizer = TfidfVectorizer(\"english\")\n",
    "features = vectorizer.fit_transform(Features)\n",
    "\n",
    "features_train, features_test, labels_train, labels_test = train_test_split(features, df['class'], test_size=0.3, random_state=111)"
   ]
  },
  {
   "cell_type": "markdown",
   "metadata": {},
   "source": [
    "### Model Hyperparameter Tuning"
   ]
  },
  {
   "cell_type": "code",
   "execution_count": 7,
   "metadata": {
    "collapsed": true
   },
   "outputs": [],
   "source": [
    "from sklearn.metrics import accuracy_score\n",
    "from sklearn.svm import SVC\n",
    "from sklearn.neighbors import KNeighborsClassifier\n",
    "from sklearn.naive_bayes import MultinomialNB\n",
    "from sklearn.tree import DecisionTreeClassifier\n",
    "from sklearn.linear_model import LogisticRegression"
   ]
  },
  {
   "cell_type": "markdown",
   "metadata": {},
   "source": [
    "### SVC tuning of Gamma,C and Kernal"
   ]
  },
  {
   "cell_type": "code",
   "execution_count": 8,
   "metadata": {},
   "outputs": [
    {
     "name": "stdout",
     "output_type": "stream",
     "text": [
      " Model :\n",
      " Kernal function:rbf\tAccuracy :0.9850478468899522\tBest params :{'C': 10, 'gamma': 0.1}\n",
      " Model :\n",
      " Kernal function:poly\tAccuracy :0.9300239234449761\tBest params :{'C': 10, 'gamma': 1}\n",
      " Model :\n",
      " Kernal function:sigmoid\tAccuracy :0.9820574162679426\tBest params :{'C': 10, 'gamma': 0.1}\n"
     ]
    }
   ],
   "source": [
    "from sklearn.model_selection import GridSearchCV\n",
    "def svc_param_selection(X_train, y_train,X_test,y_test):\n",
    "    Cs = [0.001, 0.01, 0.1, 1, 10]\n",
    "    gammas = [0.001, 0.01, 0.1, 1]\n",
    "    krnl = ['rbf','poly','sigmoid']\n",
    "    param_grid = {'C': Cs, 'gamma' : gammas}\n",
    "    for i in krnl:\n",
    "        grid_search = GridSearchCV(SVC(kernel=i), param_grid)\n",
    "        grid_search.fit(X_train, y_train)\n",
    "        pred = grid_search.predict(X_test)\n",
    "        acc=accuracy_score(y_test,pred)\n",
    "        print(\" Model :\\n Kernal function:{0}\\tAccuracy :{1}\\tBest params :{2}\".format(i,acc,grid_search.best_params_))\n",
    "        \n",
    "svc_param_selection(features_train, labels_train,features_test,labels_test)"
   ]
  },
  {
   "cell_type": "markdown",
   "metadata": {},
   "source": [
    "## Naive bayes tuning of Alpha values"
   ]
  },
  {
   "cell_type": "code",
   "execution_count": 9,
   "metadata": {},
   "outputs": [
    {
     "data": {
      "image/png": "[encoded data removed]",
      "text/plain": [
       "<Figure size 432x288 with 1 Axes>"
      ]
     },
     "metadata": {},
     "output_type": "display_data"
    }
   ],
   "source": [
    "alpha=[i for i in np.round(np.linspace(0.05, 1, num=10),2)]\n",
    "pred_score=[]\n",
    "for i in alpha:\n",
    "    mnb = MultinomialNB(alpha=i)\n",
    "    mnb.fit(features_train, labels_train)\n",
    "    prediction = mnb.predict(features_test)\n",
    "    pred_score.append(accuracy_score(labels_test,prediction))\n",
    "\n",
    "D=dict(zip(alpha,pred_score))\n",
    "plt.plot(range(len(D)), list(D.values()))\n",
    "plt.xticks(range(len(D)), list(D.keys()))\n",
    "plt.xlabel('Alpha values')\n",
    "plt.ylabel('Accuracy score of the model')\n",
    "plt.show()\n"
   ]
  },
  {
   "cell_type": "markdown",
   "metadata": {},
   "source": [
    "### SGD Classifier tuning of Alpha \n",
    "#### Alpha is a Constant that multiplies the regularization term. Defaults to 0.0001 Also used to compute learning_rate when set to ‘optimal’.Using default regularization as 'L2'"
   ]
  },
  {
   "cell_type": "code",
   "execution_count": 10,
   "metadata": {},
   "outputs": [
    {
     "data": {
      "image/png": "[encoded data removed]",
      "text/plain": [
       "<Figure size 432x288 with 1 Axes>"
      ]
     },
     "metadata": {},
     "output_type": "display_data"
    }
   ],
   "source": [
    "from sklearn.linear_model import SGDClassifier\n",
    "#alpha=[i for i in np.round(np.linspace(0.0001, 1, num=50),4)]\n",
    "alpha=[0.0001,0.001,0.01,0.1,1,10,100,]\n",
    "pred_score=[]\n",
    "for i in alpha:\n",
    "    clf=SGDClassifier(alpha=i,max_iter=1000)\n",
    "    clf.fit(features_train, labels_train)\n",
    "    prediction = clf.predict(features_test)\n",
    "    pred_score.append(accuracy_score(labels_test,prediction))\n",
    "    \n",
    "D=dict(zip(alpha,pred_score))\n",
    "plt.plot(range(len(D)), list(D.values()))\n",
    "plt.xticks(range(len(D)), list(D.keys()),rotation='vertical')\n",
    "plt.xlabel('Alpha values')\n",
    "plt.ylabel('Accuracy score of the model')\n",
    "plt.show()"
   ]
  }
 ],
 "metadata": {
  "kernelspec": {
   "display_name": "Python 3",
   "language": "python",
   "name": "python3"
  },
  "language_info": {
   "codemirror_mode": {
    "name": "ipython",
    "version": 3
   },
   "file_extension": ".py",
   "mimetype": "text/x-python",
   "name": "python",
   "nbconvert_exporter": "python",
   "pygments_lexer": "ipython3",
   "version": "3.7.4"
  }
 },
 "nbformat": 4,
 "nbformat_minor": 2
}
